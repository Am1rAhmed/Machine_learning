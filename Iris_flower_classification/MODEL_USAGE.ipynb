{
 "cells": [
  {
   "cell_type": "code",
   "execution_count": 1,
   "id": "8ac46543",
   "metadata": {},
   "outputs": [],
   "source": [
    "import numpy as np\n",
    "from joblib import dump, load\n",
    "model = load(\"IRIS_MODEL_USAGE.joblib\")\n",
    "# eg -->[[5,4,1,1.9]])"
   ]
  },
  {
   "cell_type": "code",
   "execution_count": 2,
   "id": "1dd6729f",
   "metadata": {},
   "outputs": [
    {
     "name": "stdout",
     "output_type": "stream",
     "text": [
      "Prediction for only three flowers:\n",
      "1.Iris-setosa.\n",
      "2.Iris-versicolor.\n",
      "3.Iris-virginica.\n",
      "Enter the 4 features i.e sepal-length, sepal-width, \n",
      "petal-length, petal-width of the given flower.\n",
      "\n",
      "5 4 1 1.9\n",
      "Answer is:\n",
      "Iris-versicolor.\n"
     ]
    },
    {
     "name": "stderr",
     "output_type": "stream",
     "text": [
      "C:\\Users\\amira\\AppData\\Local\\Programs\\Python\\Python310\\lib\\site-packages\\sklearn\\base.py:439: UserWarning: X does not have valid feature names, but DecisionTreeRegressor was fitted with feature names\n",
      "  warnings.warn(\n"
     ]
    }
   ],
   "source": [
    "print(\"Prediction for only three flowers:\\n1.Iris-setosa.\\n2.Iris-versicolor.\\n3.Iris-virginica.\")\n",
    "print(\"Enter the 4 features i.e sepal-length, sepal-width, \\npetal-length, petal-width of the given flower.\\n\")\n",
    "features = list(map(float,input().strip().split()))\n",
    "if len(features) != 4:\n",
    "    print(\"Please enter exactly 4 values.\")\n",
    "else:\n",
    "    # Reshaping the input to a 2D array\n",
    "    features = np.array(features).reshape(1, -1)\n",
    "a = model.predict(features)\n",
    "print(\"Answer is:\")\n",
    "if (a == 0):\n",
    "    print(\"Iris-setosa.\")\n",
    "elif (a == 1):\n",
    "    print(\"Iris-versicolor.\")\n",
    "elif(a == 2):\n",
    "    print(\"Iris-virginica.\")\n",
    "else:\n",
    "    print(\"Cannot identify the flower.\")"
   ]
  },
  {
   "cell_type": "code",
   "execution_count": null,
   "id": "e8e238c9",
   "metadata": {},
   "outputs": [],
   "source": []
  }
 ],
 "metadata": {
  "kernelspec": {
   "display_name": "Python 3 (ipykernel)",
   "language": "python",
   "name": "python3"
  },
  "language_info": {
   "codemirror_mode": {
    "name": "ipython",
    "version": 3
   },
   "file_extension": ".py",
   "mimetype": "text/x-python",
   "name": "python",
   "nbconvert_exporter": "python",
   "pygments_lexer": "ipython3",
   "version": "3.10.6"
  }
 },
 "nbformat": 4,
 "nbformat_minor": 5
}
